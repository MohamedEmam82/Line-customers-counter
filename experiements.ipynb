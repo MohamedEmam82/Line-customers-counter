{
 "cells": [
  {
   "cell_type": "code",
   "execution_count": null,
   "metadata": {},
   "outputs": [],
   "source": []
  },
  {
   "cell_type": "code",
   "execution_count": null,
   "metadata": {},
   "outputs": [],
   "source": [
    "import cv2\n",
    "import numpy as np\n",
    "from ultralytics import YOLO\n",
    "\n",
    "\n",
    "### function to print mouse coordinates while moving over frame to assist define ROI area\n",
    "def RGB(event, x, y, flags, param):\n",
    "    if event == cv2.EVENT_MOUSEMOVE:\n",
    "        point = [x,y]\n",
    "        print(point)\n",
    "\n",
    "cv2.namedWindow('vid')\n",
    "cv2.setMouseCallback('vid', RGB)\n",
    "\n",
    "\n",
    "### Load yolo model\n",
    "model = YOLO(\"models/yolo11n.pt\")\n",
    "names = model.names\n",
    "\n",
    "### load the video source\n",
    "cap = cv2.VideoCapture(\"media/vid_1.mp4\")\n",
    "#cap = cv2.VideoCapture(1)\n",
    "\n",
    "### Define ROI area on the frame\n",
    "#ROI = np.array([(680,317), (220,334), (257,393), (801,382)], np.int32)\n",
    "ROI = np.array([(641, 372), (220, 381), (257, 447), (811, 430), (692, 356)], np.int32)\n",
    "\n",
    "persons_counter = 0\n",
    "\n",
    "count = 0\n",
    "ref = 0\n",
    "while True:\n",
    "    # read frames if ret is true\n",
    "    ret, frame = cap.read()\n",
    "    if not ret:\n",
    "        break\n",
    "    \n",
    "    # skip some frames\n",
    "    count +=1\n",
    "    if count-ref != 2:\n",
    "        continue\n",
    "    count, ref = 0, 0\n",
    "\n",
    "    # resizing frames\n",
    "    frame = cv2.resize(frame, (1000, 500))\n",
    "\n",
    "    # run yolo on frames with persist tracking between frames\n",
    "    results = model.track(frame, persist=True)\n",
    "    people = len(results[0].boxes.id)\n",
    "    \n",
    "    #\n",
    "    if results[0].boxes is not None and results[0].boxes.id is not None:\n",
    "        bboxes = results[0].boxes.xyxy.int().cpu().tolist()\n",
    "        class_ids = results[0].boxes.cls.int().cpu().tolist()\n",
    "        track_ids = results[0].boxes.id.int().cpu().tolist()\n",
    "        confidences  =results[0].boxes.conf.cpu().tolist()\n",
    "\n",
    "        for bbox, class_id, track_id, conf in zip(bboxes, class_ids, track_ids, confidences):\n",
    "            class_name = names[class_id]\n",
    "            if class_name in [\"person\"]:\n",
    "                    \n",
    "                x1, y1, x2, y2 = bbox\n",
    "                xc = (x1+x2)//2\n",
    "                yc = (y1+y2)//2\n",
    "                \n",
    "\n",
    "                isInside = cv2.pointPolygonTest(contour=ROI, pt=((xc,y2)), measureDist=False)\n",
    "                if isInside == 1:\n",
    "                    persons_counter +=1\n",
    "\n",
    "                    cv2.circle(frame, center=(xc,y2), radius=3, color=(255,255,0), thickness=-1)\n",
    "                    cv2.rectangle(frame, (x1, y1), (x2, y2), (0,255,0), 2)\n",
    "                    cv2.putText(frame, f'{class_name}', (x1, y1-2), 1, 1, (0,255,0))\n",
    "\n",
    "        cv2.putText(frame, f'people = {persons_counter}', (50,50), 2, 1, (0,0,255))\n",
    "        persons_counter = 0\n",
    "\n",
    "        \n",
    "        cv2.polylines(frame, [ROI], True, (255,0,255), 2)\n",
    "\n",
    "        cv2.imshow('vid', frame)\n",
    "        if cv2.waitKey(1) & 0xFF == ord('q'):\n",
    "            break\n",
    "\n",
    "cap.release()\n",
    "cv2.destroyAllWindows()"
   ]
  },
  {
   "cell_type": "code",
   "execution_count": null,
   "metadata": {},
   "outputs": [
    {
     "name": "stdout",
     "output_type": "stream",
     "text": [
      "16\n"
     ]
    }
   ],
   "source": []
  },
  {
   "cell_type": "code",
   "execution_count": null,
   "metadata": {},
   "outputs": [],
   "source": []
  },
  {
   "cell_type": "code",
   "execution_count": null,
   "metadata": {},
   "outputs": [],
   "source": []
  },
  {
   "cell_type": "code",
   "execution_count": null,
   "metadata": {},
   "outputs": [],
   "source": []
  },
  {
   "cell_type": "code",
   "execution_count": null,
   "metadata": {},
   "outputs": [],
   "source": []
  }
 ],
 "metadata": {
  "kernelspec": {
   "display_name": "areaCounter",
   "language": "python",
   "name": "python3"
  },
  "language_info": {
   "codemirror_mode": {
    "name": "ipython",
    "version": 3
   },
   "file_extension": ".py",
   "mimetype": "text/x-python",
   "name": "python",
   "nbconvert_exporter": "python",
   "pygments_lexer": "ipython3",
   "version": "3.8.20"
  }
 },
 "nbformat": 4,
 "nbformat_minor": 2
}
