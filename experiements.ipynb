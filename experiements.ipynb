{
 "cells": [
  {
   "cell_type": "code",
   "execution_count": null,
   "metadata": {},
   "outputs": [],
   "source": []
  },
  {
   "cell_type": "code",
   "execution_count": null,
   "metadata": {},
   "outputs": [],
   "source": [
    "import cv2\n",
    "import numpy as np\n",
    "from ultralytics import YOLO\n",
    "\n",
    "\n",
    "\n",
    "def RGB(event, x, y, flags, param):\n",
    "    if event == cv2.EVENT_MOUSEMOVE:\n",
    "        point = [x,y]\n",
    "        print(point)\n",
    "\n",
    "\n",
    "cv2.namedWindow('vid')\n",
    "cv2.setMouseCallback('vid', RGB)\n",
    "\n",
    "\n",
    "### Load yolo model\n",
    "model = YOLO(\"models/yolo11n.pt\")\n",
    "names = model.names\n",
    "\n",
    "### load the video source\n",
    "cap = cv2.VideoCapture(\"media/vid_1.mp4\")\n",
    "count = 0\n",
    "\n",
    "while True:\n",
    "    # read frames if ret is true\n",
    "    ret, frame = cap.read()\n",
    "    if not ret:\n",
    "        break\n",
    "    \n",
    "    # skip frames with odd numders\n",
    "    count +=1\n",
    "    if count%2 != 0:\n",
    "        continue\n",
    "\n",
    "    # resizing frames\n",
    "    frame = cv2.resize(frame, (1020, 500))\n",
    "\n",
    "    # run yolo on frames with persist tracking between frames\n",
    "    results = model.track(frame, persist=True)\n",
    "    \n",
    "    #\n",
    "    if results[0].boxes is not None and results[0].boxes.id is not None:\n",
    "        bboxes = results[0].boxes.xyxy.int().cpu().tolist()\n",
    "        class_ids = results[0].boxes.cls.int().cpu().tolist()\n",
    "        track_ids = results[0].boxes.id.int().cpu().tolist()\n",
    "        confidences  =results[0].boxes.conf.cpu().tolist()\n",
    "\n",
    "        for bbox, class_id, track_id, conf in zip(bboxes, class_ids, track_ids, confidences):\n",
    "            class_name = names[class_id]\n",
    "            x1, y1, x2, y2 = bbox\n",
    "\n",
    "            cv2.rectangle(frame, (x1, y1), (x2, y2), (0,255,0), 2)\n",
    "            cv2.putText(frame, f'{class_name}', (x1, y1-2), 1, 1, (0,255,0))\n",
    "\n",
    "        cv2.imshow('vid', frame)\n",
    "        if cv2.waitKey(1) & 0xFF == ord('q'):\n",
    "            break\n",
    "\n",
    "cap.release()\n",
    "cv2.destroyAllWindows()"
   ]
  },
  {
   "cell_type": "code",
   "execution_count": null,
   "metadata": {},
   "outputs": [],
   "source": []
  },
  {
   "cell_type": "code",
   "execution_count": null,
   "metadata": {},
   "outputs": [],
   "source": []
  },
  {
   "cell_type": "code",
   "execution_count": null,
   "metadata": {},
   "outputs": [],
   "source": []
  },
  {
   "cell_type": "code",
   "execution_count": null,
   "metadata": {},
   "outputs": [],
   "source": []
  },
  {
   "cell_type": "code",
   "execution_count": null,
   "metadata": {},
   "outputs": [],
   "source": []
  }
 ],
 "metadata": {
  "kernelspec": {
   "display_name": "areaCounter",
   "language": "python",
   "name": "python3"
  },
  "language_info": {
   "codemirror_mode": {
    "name": "ipython",
    "version": 3
   },
   "file_extension": ".py",
   "mimetype": "text/x-python",
   "name": "python",
   "nbconvert_exporter": "python",
   "pygments_lexer": "ipython3",
   "version": "3.8.20"
  }
 },
 "nbformat": 4,
 "nbformat_minor": 2
}
